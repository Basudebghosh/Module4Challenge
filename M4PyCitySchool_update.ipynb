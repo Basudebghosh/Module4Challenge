{
 "cells": [
  {
   "cell_type": "code",
   "execution_count": 2,
   "id": "37b7d45a",
   "metadata": {},
   "outputs": [
    {
     "name": "stdout",
     "output_type": "stream",
     "text": [
      "       Student ID     student_name gender  year         school_name  \\\n",
      "0               0     Paul Bradley      M     9   Huang High School   \n",
      "1               1     Victor Smith      M    12   Huang High School   \n",
      "2               2  Kevin Rodriguez      M    12   Huang High School   \n",
      "3               3    Richard Scott      M    12   Huang High School   \n",
      "4               4       Bonnie Ray      F     9   Huang High School   \n",
      "...           ...              ...    ...   ...                 ...   \n",
      "39165       39165     Donna Howard      F    12  Thomas High School   \n",
      "39166       39166        Dawn Bell      F    10  Thomas High School   \n",
      "39167       39167   Rebecca Tanner      F     9  Thomas High School   \n",
      "39168       39168     Desiree Kidd      F    10  Thomas High School   \n",
      "39169       39169  Carolyn Jackson      F    11  Thomas High School   \n",
      "\n",
      "       reading_score  maths_score  School ID         type    size   budget  \n",
      "0                 96           94        0.0   Government  2917.0  1910635  \n",
      "1                 90           43        0.0   Government  2917.0  1910635  \n",
      "2                 41           76        0.0   Government  2917.0  1910635  \n",
      "3                 89           86        0.0   Government  2917.0  1910635  \n",
      "4                 87           69        0.0   Government  2917.0  1910635  \n",
      "...              ...          ...        ...          ...     ...      ...  \n",
      "39165             51           48       14.0  Independent  1635.0  1043130  \n",
      "39166             81           89       14.0  Independent  1635.0  1043130  \n",
      "39167             99           99       14.0  Independent  1635.0  1043130  \n",
      "39168             72           77       14.0  Independent  1635.0  1043130  \n",
      "39169             47           62       14.0  Independent  1635.0  1043130  \n",
      "\n",
      "[39170 rows x 11 columns]\n"
     ]
    }
   ],
   "source": [
    "import pandas as pd\n",
    "\n",
    "# File to Load (Remember to Change These)\n",
    "school_data_to_load = \"Resources/schools_complete.csv\"\n",
    "student_data_to_load = \"Resources/students_complete.csv\"\n",
    "\n",
    "# Read School and Student Data File and store into Pandas DataFrames\n",
    "school_data = pd.read_csv(school_data_to_load)\n",
    "student_data = pd.read_csv(student_data_to_load)\n",
    "\n",
    "# Combine the data into a single dataset.  \n",
    "school_data_complete = pd.merge(student_data, school_data, how=\"left\", on=[\"school_name\", \"school_name\"])\n",
    "school_data_complete.head()\n",
    "print(school_data_complete)         "
   ]
  },
  {
   "cell_type": "code",
   "execution_count": 2,
   "id": "1ac691ad",
   "metadata": {},
   "outputs": [
    {
     "name": "stdout",
     "output_type": "stream",
     "text": [
      "Total Unique School Number ::  15\n"
     ]
    }
   ],
   "source": [
    "# Calculate the total number of schools\n",
    "unique_school_name=school_data_complete['school_name'].unique()\n",
    "total_school_number=len(unique_school_name)\n",
    "print(\"Total Unique School Number :: \", total_school_number)"
   ]
  },
  {
   "cell_type": "code",
   "execution_count": 3,
   "id": "39fd3746",
   "metadata": {},
   "outputs": [
    {
     "name": "stdout",
     "output_type": "stream",
     "text": [
      "Total Students ::  39170\n"
     ]
    }
   ],
   "source": [
    "# Calculate the total number of students\n",
    "total_students_number=school_data_complete[\"student_name\"].count()\n",
    "print(\"Total Students :: \", total_students_number)"
   ]
  },
  {
   "cell_type": "code",
   "execution_count": 4,
   "id": "6c3ca70d",
   "metadata": {},
   "outputs": [
    {
     "name": "stdout",
     "output_type": "stream",
     "text": [
      "Total Budget ::  49298856\n"
     ]
    }
   ],
   "source": [
    "# Calculate the total budget\n",
    "total_budget = school_data[\"budget\"].sum()\n",
    "print(\"Total Budget :: \", total_budget)\n"
   ]
  },
  {
   "cell_type": "code",
   "execution_count": 5,
   "id": "237c62e9",
   "metadata": {},
   "outputs": [
    {
     "name": "stdout",
     "output_type": "stream",
     "text": [
      "Average Math Sscore ::  70.33819249425581\n"
     ]
    }
   ],
   "source": [
    "# Calculate the average math score.\n",
    "average_math_score = school_data_complete[\"maths_score\"].mean()\n",
    "print(\"Average Math Sscore :: \", average_math_score)"
   ]
  },
  {
   "cell_type": "code",
   "execution_count": 6,
   "id": "0e7cfdf7",
   "metadata": {},
   "outputs": [
    {
     "name": "stdout",
     "output_type": "stream",
     "text": [
      "Average Reading Sscore ::  69.98013786060761\n"
     ]
    }
   ],
   "source": [
    "# Calculate the average reading score\n",
    "average_reading_score = school_data_complete[\"reading_score\"].mean()\n",
    "print(\"Average Reading Sscore :: \", average_reading_score)"
   ]
  },
  {
   "cell_type": "code",
   "execution_count": 7,
   "id": "7ec6950b",
   "metadata": {},
   "outputs": [
    {
     "name": "stdout",
     "output_type": "stream",
     "text": [
      "Average Reading Sscore ::  69.98013786060761\n"
     ]
    }
   ],
   "source": [
    "# Calculate the average reading score\n",
    "average_reading_score = school_data_complete[\"reading_score\"].mean()\n",
    "print(\"Average Reading Sscore :: \", average_reading_score)\n"
   ]
  },
  {
   "cell_type": "code",
   "execution_count": 8,
   "id": "487b00d5",
   "metadata": {},
   "outputs": [
    {
     "name": "stdout",
     "output_type": "stream",
     "text": [
      "Percent Passing Math ::  51.460301250957365\n"
     ]
    }
   ],
   "source": [
    "#Calculate the percentage of students with a passing math score (70 or greater)\n",
    "\n",
    "students_passing_math = school_data_complete.loc[school_data_complete[\"maths_score\"] >= 70]\n",
    "number_students_passing_math = students_passing_math[\"Student ID\"].count()\n",
    "\n",
    "percent_passing_math = (number_students_passing_math / total_students_number) * 100\n",
    "\n",
    "print(\"Percent Passing Math :: \", percent_passing_math)"
   ]
  },
  {
   "cell_type": "code",
   "execution_count": 9,
   "id": "5d1b79e8",
   "metadata": {},
   "outputs": [
    {
     "name": "stdout",
     "output_type": "stream",
     "text": [
      "Percent Passing Reading : 50.814398774572375\n"
     ]
    }
   ],
   "source": [
    "# Calculate the percentage of students with a passing reading score (70 or greater)\n",
    "students_passing_reading = school_data_complete.loc[school_data_complete[\"reading_score\"] >= 70]\n",
    "number_students_passing_reading = students_passing_reading[\"Student ID\"].count()\n",
    "\n",
    "percent_passing_reading = (number_students_passing_reading / total_students_number) * 100\n",
    "print(\"Percent Passing Reading :\", percent_passing_reading)\n"
   ]
  },
  {
   "cell_type": "code",
   "execution_count": 10,
   "id": "eab605b8",
   "metadata": {},
   "outputs": [
    {
     "name": "stdout",
     "output_type": "stream",
     "text": [
      "Overall Passing : 26.316058207812098\n"
     ]
    }
   ],
   "source": [
    "# Calculate the percentage of students who passed math and reading (% Overall Passing)\n",
    "\n",
    "Overall_passing = school_data_complete[(school_data_complete['maths_score'] >= 70) & (school_data_complete['reading_score'] >= 70)]['Student ID'].count()/total_students_number*100\n",
    "\n",
    "print(\"Overall Passing :\", Overall_passing)\n"
   ]
  },
  {
   "cell_type": "code",
   "execution_count": 15,
   "id": "ba525d10",
   "metadata": {},
   "outputs": [
    {
     "name": "stdout",
     "output_type": "stream",
     "text": [
      "   Total Schools Total Students    Total Budget Average Math Score  \\\n",
      "0             15         39,170  $49,298,856.00          70.338192   \n",
      "\n",
      "  Average Reading Score % Passing Math % Passing Reading % Overall Passing  \n",
      "0              69.98014      51.460301         50.814399         26.316058  \n"
     ]
    }
   ],
   "source": [
    "# Create a dataframe to hold the above results\n",
    "district_summary = pd.DataFrame({\n",
    "    \"Total Schools\": total_school_number,\n",
    "    \"Total Students\": f\"{total_students_number:,}\",\n",
    "    \"Total Budget\": f\"${total_budget:,.2f}\",\n",
    "    \"Average Math Score\": f\"{average_math_score:.6f}\",\n",
    "    \"Average Reading Score\": f\"{average_reading_score:.5f}\",\n",
    "    \"% Passing Math\": f\"{percent_passing_math:.6f}\",\n",
    "    \"% Passing Reading\": f\"{percent_passing_reading:.6f}\",\n",
    "    \"% Overall Passing\": f\"{Overall_passing: .6f}\"\n",
    "}, index=[0])\n",
    "\n",
    "\n",
    "print(district_summary)\n"
   ]
  },
  {
   "cell_type": "code",
   "execution_count": 11,
   "id": "62a0d7d0",
   "metadata": {},
   "outputs": [
    {
     "data": {
      "text/plain": [
       "<pandas.core.groupby.generic.DataFrameGroupBy object at 0x0000018FC9FEFC40>"
      ]
     },
     "execution_count": 11,
     "metadata": {},
     "output_type": "execute_result"
    }
   ],
   "source": [
    "# Group by school name\n",
    "school_name = school_data_complete.set_index('school_name').groupby(['school_name'])\n",
    "school_name "
   ]
  },
  {
   "cell_type": "code",
   "execution_count": 12,
   "id": "97d92205",
   "metadata": {},
   "outputs": [],
   "source": [
    "# school types by school name\n",
    "school_type = school_data.set_index('school_name')['type']"
   ]
  },
  {
   "cell_type": "code",
   "execution_count": 13,
   "id": "9b9713a7",
   "metadata": {},
   "outputs": [
    {
     "data": {
      "text/plain": [
       "school_name\n",
       "Bailey High School       4976\n",
       "Cabrera High School      1858\n",
       "Figueroa High School     2949\n",
       "Ford High School         2739\n",
       "Griffin High School      1468\n",
       "Hernandez High School    4635\n",
       "Holden High School        427\n",
       "Huang High School        2917\n",
       "Johnson High School      4761\n",
       "Pena High School          962\n",
       "Rodriguez High School    3999\n",
       "Shelton High School      1761\n",
       "Thomas High School       1635\n",
       "Wilson High School       2283\n",
       "Wright High School       1800\n",
       "Name: Student ID, dtype: int64"
      ]
     },
     "execution_count": 13,
     "metadata": {},
     "output_type": "execute_result"
    }
   ],
   "source": [
    "#  Calculate total students\n",
    "total_student = school_name['Student ID'].count()\n",
    "total_student"
   ]
  },
  {
   "cell_type": "code",
   "execution_count": 14,
   "id": "e5a680b0",
   "metadata": {},
   "outputs": [],
   "source": [
    "# Total school budget\n",
    "total_school_budget = school_data.set_index('school_name')['budget']"
   ]
  },
  {
   "cell_type": "code",
   "execution_count": 15,
   "id": "5bf912e5",
   "metadata": {},
   "outputs": [],
   "source": [
    "# per student budget\n",
    "budget_per_student = (school_data.set_index('school_name')['budget']/school_data.set_index('school_name')['size'])"
   ]
  },
  {
   "cell_type": "code",
   "execution_count": 16,
   "id": "c298bd52",
   "metadata": {},
   "outputs": [],
   "source": [
    "# Average Math Score\n",
    "average_math_score = school_name['maths_score'].mean()"
   ]
  },
  {
   "cell_type": "code",
   "execution_count": 17,
   "id": "ff18dad2",
   "metadata": {},
   "outputs": [],
   "source": [
    "# Average Reading Score\n",
    "average_reading_score = school_name['reading_score'].mean()"
   ]
  },
  {
   "cell_type": "code",
   "execution_count": 18,
   "id": "6fb5d926",
   "metadata": {},
   "outputs": [],
   "source": [
    "# % Passing Math\n",
    "pass_math_percent = school_data_complete[school_data_complete['maths_score'] >= 70].groupby('school_name')['Student ID'].count()/total_student*100"
   ]
  },
  {
   "cell_type": "code",
   "execution_count": 19,
   "id": "2f2a6e7d",
   "metadata": {},
   "outputs": [],
   "source": [
    "# % Passing Reading\n",
    "pass_read_percent = school_data_complete[school_data_complete['reading_score'] >= 70].groupby('school_name')['Student ID'].count()/total_student*100"
   ]
  },
  {
   "cell_type": "code",
   "execution_count": 20,
   "id": "127ab643",
   "metadata": {},
   "outputs": [],
   "source": [
    "# % Overall Passing (The percentage of students that passed math and reading.\n",
    "overall_pass = school_data_complete[(school_data_complete['reading_score'] >= 70) & (school_data_complete['maths_score'] >= 70)].groupby('school_name')['Student ID'].count()/total_student*100"
   ]
  },
  {
   "cell_type": "code",
   "execution_count": 21,
   "id": "1f9f1915",
   "metadata": {},
   "outputs": [
    {
     "data": {
      "text/html": [
       "<style type=\"text/css\">\n",
       "</style>\n",
       "<table id=\"T_0d088\">\n",
       "  <thead>\n",
       "    <tr>\n",
       "      <th class=\"blank level0\" >&nbsp;</th>\n",
       "      <th id=\"T_0d088_level0_col0\" class=\"col_heading level0 col0\" >School Type</th>\n",
       "      <th id=\"T_0d088_level0_col1\" class=\"col_heading level0 col1\" >Total Students</th>\n",
       "      <th id=\"T_0d088_level0_col2\" class=\"col_heading level0 col2\" >Total School Budget</th>\n",
       "      <th id=\"T_0d088_level0_col3\" class=\"col_heading level0 col3\" >Per Student Budget</th>\n",
       "      <th id=\"T_0d088_level0_col4\" class=\"col_heading level0 col4\" >Average Math Score</th>\n",
       "      <th id=\"T_0d088_level0_col5\" class=\"col_heading level0 col5\" >Average Reading Score</th>\n",
       "      <th id=\"T_0d088_level0_col6\" class=\"col_heading level0 col6\" >% Passing Math</th>\n",
       "      <th id=\"T_0d088_level0_col7\" class=\"col_heading level0 col7\" >% Passing Reading</th>\n",
       "      <th id=\"T_0d088_level0_col8\" class=\"col_heading level0 col8\" >% Overall Passing</th>\n",
       "    </tr>\n",
       "    <tr>\n",
       "      <th class=\"index_name level0\" >school_name</th>\n",
       "      <th class=\"blank col0\" >&nbsp;</th>\n",
       "      <th class=\"blank col1\" >&nbsp;</th>\n",
       "      <th class=\"blank col2\" >&nbsp;</th>\n",
       "      <th class=\"blank col3\" >&nbsp;</th>\n",
       "      <th class=\"blank col4\" >&nbsp;</th>\n",
       "      <th class=\"blank col5\" >&nbsp;</th>\n",
       "      <th class=\"blank col6\" >&nbsp;</th>\n",
       "      <th class=\"blank col7\" >&nbsp;</th>\n",
       "      <th class=\"blank col8\" >&nbsp;</th>\n",
       "    </tr>\n",
       "  </thead>\n",
       "  <tbody>\n",
       "    <tr>\n",
       "      <th id=\"T_0d088_level0_row0\" class=\"row_heading level0 row0\" >Bailey High School</th>\n",
       "      <td id=\"T_0d088_row0_col0\" class=\"data row0 col0\" >Government</td>\n",
       "      <td id=\"T_0d088_row0_col1\" class=\"data row0 col1\" >4976.0</td>\n",
       "      <td id=\"T_0d088_row0_col2\" class=\"data row0 col2\" >$3,124,928.00</td>\n",
       "      <td id=\"T_0d088_row0_col3\" class=\"data row0 col3\" >$628.00</td>\n",
       "      <td id=\"T_0d088_row0_col4\" class=\"data row0 col4\" >72.352894</td>\n",
       "      <td id=\"T_0d088_row0_col5\" class=\"data row0 col5\" >71.008842</td>\n",
       "      <td id=\"T_0d088_row0_col6\" class=\"data row0 col6\" >55.225080</td>\n",
       "      <td id=\"T_0d088_row0_col7\" class=\"data row0 col7\" >52.451768</td>\n",
       "      <td id=\"T_0d088_row0_col8\" class=\"data row0 col8\" >29.159968</td>\n",
       "    </tr>\n",
       "    <tr>\n",
       "      <th id=\"T_0d088_level0_row1\" class=\"row_heading level0 row1\" >Cabrera High School</th>\n",
       "      <td id=\"T_0d088_row1_col0\" class=\"data row1 col0\" >Independent</td>\n",
       "      <td id=\"T_0d088_row1_col1\" class=\"data row1 col1\" >1858.0</td>\n",
       "      <td id=\"T_0d088_row1_col2\" class=\"data row1 col2\" >$1,081,356.00</td>\n",
       "      <td id=\"T_0d088_row1_col3\" class=\"data row1 col3\" >$582.00</td>\n",
       "      <td id=\"T_0d088_row1_col4\" class=\"data row1 col4\" >71.657158</td>\n",
       "      <td id=\"T_0d088_row1_col5\" class=\"data row1 col5\" >71.359526</td>\n",
       "      <td id=\"T_0d088_row1_col6\" class=\"data row1 col6\" >53.175457</td>\n",
       "      <td id=\"T_0d088_row1_col7\" class=\"data row1 col7\" >53.283100</td>\n",
       "      <td id=\"T_0d088_row1_col8\" class=\"data row1 col8\" >28.579117</td>\n",
       "    </tr>\n",
       "    <tr>\n",
       "      <th id=\"T_0d088_level0_row2\" class=\"row_heading level0 row2\" >Figueroa High School</th>\n",
       "      <td id=\"T_0d088_row2_col0\" class=\"data row2 col0\" >Government</td>\n",
       "      <td id=\"T_0d088_row2_col1\" class=\"data row2 col1\" >2949.0</td>\n",
       "      <td id=\"T_0d088_row2_col2\" class=\"data row2 col2\" >$1,884,411.00</td>\n",
       "      <td id=\"T_0d088_row2_col3\" class=\"data row2 col3\" >$639.00</td>\n",
       "      <td id=\"T_0d088_row2_col4\" class=\"data row2 col4\" >68.698542</td>\n",
       "      <td id=\"T_0d088_row2_col5\" class=\"data row2 col5\" >69.077993</td>\n",
       "      <td id=\"T_0d088_row2_col6\" class=\"data row2 col6\" >47.677179</td>\n",
       "      <td id=\"T_0d088_row2_col7\" class=\"data row2 col7\" >49.169210</td>\n",
       "      <td id=\"T_0d088_row2_col8\" class=\"data row2 col8\" >23.736860</td>\n",
       "    </tr>\n",
       "    <tr>\n",
       "      <th id=\"T_0d088_level0_row3\" class=\"row_heading level0 row3\" >Ford High School</th>\n",
       "      <td id=\"T_0d088_row3_col0\" class=\"data row3 col0\" >Government</td>\n",
       "      <td id=\"T_0d088_row3_col1\" class=\"data row3 col1\" >2739.0</td>\n",
       "      <td id=\"T_0d088_row3_col2\" class=\"data row3 col2\" >$1,763,916.00</td>\n",
       "      <td id=\"T_0d088_row3_col3\" class=\"data row3 col3\" >$644.00</td>\n",
       "      <td id=\"T_0d088_row3_col4\" class=\"data row3 col4\" >69.091274</td>\n",
       "      <td id=\"T_0d088_row3_col5\" class=\"data row3 col5\" >69.572472</td>\n",
       "      <td id=\"T_0d088_row3_col6\" class=\"data row3 col6\" >48.959474</td>\n",
       "      <td id=\"T_0d088_row3_col7\" class=\"data row3 col7\" >50.492881</td>\n",
       "      <td id=\"T_0d088_row3_col8\" class=\"data row3 col8\" >24.497992</td>\n",
       "    </tr>\n",
       "    <tr>\n",
       "      <th id=\"T_0d088_level0_row4\" class=\"row_heading level0 row4\" >Griffin High School</th>\n",
       "      <td id=\"T_0d088_row4_col0\" class=\"data row4 col0\" >Independent</td>\n",
       "      <td id=\"T_0d088_row4_col1\" class=\"data row4 col1\" >1468.0</td>\n",
       "      <td id=\"T_0d088_row4_col2\" class=\"data row4 col2\" >$917,500.00</td>\n",
       "      <td id=\"T_0d088_row4_col3\" class=\"data row4 col3\" >$625.00</td>\n",
       "      <td id=\"T_0d088_row4_col4\" class=\"data row4 col4\" >71.788147</td>\n",
       "      <td id=\"T_0d088_row4_col5\" class=\"data row4 col5\" >71.245232</td>\n",
       "      <td id=\"T_0d088_row4_col6\" class=\"data row4 col6\" >54.700272</td>\n",
       "      <td id=\"T_0d088_row4_col7\" class=\"data row4 col7\" >54.155313</td>\n",
       "      <td id=\"T_0d088_row4_col8\" class=\"data row4 col8\" >31.675749</td>\n",
       "    </tr>\n",
       "    <tr>\n",
       "      <th id=\"T_0d088_level0_row5\" class=\"row_heading level0 row5\" >Hernandez High School</th>\n",
       "      <td id=\"T_0d088_row5_col0\" class=\"data row5 col0\" >Government</td>\n",
       "      <td id=\"T_0d088_row5_col1\" class=\"data row5 col1\" >4635.0</td>\n",
       "      <td id=\"T_0d088_row5_col2\" class=\"data row5 col2\" >$3,022,020.00</td>\n",
       "      <td id=\"T_0d088_row5_col3\" class=\"data row5 col3\" >$652.00</td>\n",
       "      <td id=\"T_0d088_row5_col4\" class=\"data row5 col4\" >68.874865</td>\n",
       "      <td id=\"T_0d088_row5_col5\" class=\"data row5 col5\" >69.186408</td>\n",
       "      <td id=\"T_0d088_row5_col6\" class=\"data row5 col6\" >49.255663</td>\n",
       "      <td id=\"T_0d088_row5_col7\" class=\"data row5 col7\" >49.471413</td>\n",
       "      <td id=\"T_0d088_row5_col8\" class=\"data row5 col8\" >24.660194</td>\n",
       "    </tr>\n",
       "    <tr>\n",
       "      <th id=\"T_0d088_level0_row6\" class=\"row_heading level0 row6\" >Holden High School</th>\n",
       "      <td id=\"T_0d088_row6_col0\" class=\"data row6 col0\" >Independent</td>\n",
       "      <td id=\"T_0d088_row6_col1\" class=\"data row6 col1\" >427.0</td>\n",
       "      <td id=\"T_0d088_row6_col2\" class=\"data row6 col2\" >$248,087.00</td>\n",
       "      <td id=\"T_0d088_row6_col3\" class=\"data row6 col3\" >$581.00</td>\n",
       "      <td id=\"T_0d088_row6_col4\" class=\"data row6 col4\" >72.583138</td>\n",
       "      <td id=\"T_0d088_row6_col5\" class=\"data row6 col5\" >71.660422</td>\n",
       "      <td id=\"T_0d088_row6_col6\" class=\"data row6 col6\" >57.142857</td>\n",
       "      <td id=\"T_0d088_row6_col7\" class=\"data row6 col7\" >55.503513</td>\n",
       "      <td id=\"T_0d088_row6_col8\" class=\"data row6 col8\" >30.913349</td>\n",
       "    </tr>\n",
       "    <tr>\n",
       "      <th id=\"T_0d088_level0_row7\" class=\"row_heading level0 row7\" >Huang High School</th>\n",
       "      <td id=\"T_0d088_row7_col0\" class=\"data row7 col0\" >Government</td>\n",
       "      <td id=\"T_0d088_row7_col1\" class=\"data row7 col1\" >2917.0</td>\n",
       "      <td id=\"T_0d088_row7_col2\" class=\"data row7 col2\" >$1,910,635.00</td>\n",
       "      <td id=\"T_0d088_row7_col3\" class=\"data row7 col3\" >$655.00</td>\n",
       "      <td id=\"T_0d088_row7_col4\" class=\"data row7 col4\" >68.935207</td>\n",
       "      <td id=\"T_0d088_row7_col5\" class=\"data row7 col5\" >68.910525</td>\n",
       "      <td id=\"T_0d088_row7_col6\" class=\"data row7 col6\" >48.920123</td>\n",
       "      <td id=\"T_0d088_row7_col7\" class=\"data row7 col7\" >49.777168</td>\n",
       "      <td id=\"T_0d088_row7_col8\" class=\"data row7 col8\" >23.723003</td>\n",
       "    </tr>\n",
       "    <tr>\n",
       "      <th id=\"T_0d088_level0_row8\" class=\"row_heading level0 row8\" >Johnson High School</th>\n",
       "      <td id=\"T_0d088_row8_col0\" class=\"data row8 col0\" >Government</td>\n",
       "      <td id=\"T_0d088_row8_col1\" class=\"data row8 col1\" >4761.0</td>\n",
       "      <td id=\"T_0d088_row8_col2\" class=\"data row8 col2\" >$3,094,650.00</td>\n",
       "      <td id=\"T_0d088_row8_col3\" class=\"data row8 col3\" >$650.00</td>\n",
       "      <td id=\"T_0d088_row8_col4\" class=\"data row8 col4\" >68.843100</td>\n",
       "      <td id=\"T_0d088_row8_col5\" class=\"data row8 col5\" >69.039277</td>\n",
       "      <td id=\"T_0d088_row8_col6\" class=\"data row8 col6\" >48.771267</td>\n",
       "      <td id=\"T_0d088_row8_col7\" class=\"data row8 col7\" >48.603235</td>\n",
       "      <td id=\"T_0d088_row8_col8\" class=\"data row8 col8\" >23.881537</td>\n",
       "    </tr>\n",
       "    <tr>\n",
       "      <th id=\"T_0d088_level0_row9\" class=\"row_heading level0 row9\" >Pena High School</th>\n",
       "      <td id=\"T_0d088_row9_col0\" class=\"data row9 col0\" >Independent</td>\n",
       "      <td id=\"T_0d088_row9_col1\" class=\"data row9 col1\" >962.0</td>\n",
       "      <td id=\"T_0d088_row9_col2\" class=\"data row9 col2\" >$585,858.00</td>\n",
       "      <td id=\"T_0d088_row9_col3\" class=\"data row9 col3\" >$609.00</td>\n",
       "      <td id=\"T_0d088_row9_col4\" class=\"data row9 col4\" >72.088358</td>\n",
       "      <td id=\"T_0d088_row9_col5\" class=\"data row9 col5\" >71.613306</td>\n",
       "      <td id=\"T_0d088_row9_col6\" class=\"data row9 col6\" >55.405405</td>\n",
       "      <td id=\"T_0d088_row9_col7\" class=\"data row9 col7\" >55.093555</td>\n",
       "      <td id=\"T_0d088_row9_col8\" class=\"data row9 col8\" >30.457380</td>\n",
       "    </tr>\n",
       "    <tr>\n",
       "      <th id=\"T_0d088_level0_row10\" class=\"row_heading level0 row10\" >Rodriguez High School</th>\n",
       "      <td id=\"T_0d088_row10_col0\" class=\"data row10 col0\" >Government</td>\n",
       "      <td id=\"T_0d088_row10_col1\" class=\"data row10 col1\" >3999.0</td>\n",
       "      <td id=\"T_0d088_row10_col2\" class=\"data row10 col2\" >$2,547,363.00</td>\n",
       "      <td id=\"T_0d088_row10_col3\" class=\"data row10 col3\" >$637.00</td>\n",
       "      <td id=\"T_0d088_row10_col4\" class=\"data row10 col4\" >72.047762</td>\n",
       "      <td id=\"T_0d088_row10_col5\" class=\"data row10 col5\" >70.935984</td>\n",
       "      <td id=\"T_0d088_row10_col6\" class=\"data row10 col6\" >54.513628</td>\n",
       "      <td id=\"T_0d088_row10_col7\" class=\"data row10 col7\" >52.788197</td>\n",
       "      <td id=\"T_0d088_row10_col8\" class=\"data row10 col8\" >28.832208</td>\n",
       "    </tr>\n",
       "    <tr>\n",
       "      <th id=\"T_0d088_level0_row11\" class=\"row_heading level0 row11\" >Shelton High School</th>\n",
       "      <td id=\"T_0d088_row11_col0\" class=\"data row11 col0\" >Independent</td>\n",
       "      <td id=\"T_0d088_row11_col1\" class=\"data row11 col1\" >1761.0</td>\n",
       "      <td id=\"T_0d088_row11_col2\" class=\"data row11 col2\" >$1,056,600.00</td>\n",
       "      <td id=\"T_0d088_row11_col3\" class=\"data row11 col3\" >$600.00</td>\n",
       "      <td id=\"T_0d088_row11_col4\" class=\"data row11 col4\" >72.034072</td>\n",
       "      <td id=\"T_0d088_row11_col5\" class=\"data row11 col5\" >70.257808</td>\n",
       "      <td id=\"T_0d088_row11_col6\" class=\"data row11 col6\" >54.968768</td>\n",
       "      <td id=\"T_0d088_row11_col7\" class=\"data row11 col7\" >49.290176</td>\n",
       "      <td id=\"T_0d088_row11_col8\" class=\"data row11 col8\" >26.348666</td>\n",
       "    </tr>\n",
       "    <tr>\n",
       "      <th id=\"T_0d088_level0_row12\" class=\"row_heading level0 row12\" >Thomas High School</th>\n",
       "      <td id=\"T_0d088_row12_col0\" class=\"data row12 col0\" >Independent</td>\n",
       "      <td id=\"T_0d088_row12_col1\" class=\"data row12 col1\" >1635.0</td>\n",
       "      <td id=\"T_0d088_row12_col2\" class=\"data row12 col2\" >$1,043,130.00</td>\n",
       "      <td id=\"T_0d088_row12_col3\" class=\"data row12 col3\" >$638.00</td>\n",
       "      <td id=\"T_0d088_row12_col4\" class=\"data row12 col4\" >69.581651</td>\n",
       "      <td id=\"T_0d088_row12_col5\" class=\"data row12 col5\" >69.768807</td>\n",
       "      <td id=\"T_0d088_row12_col6\" class=\"data row12 col6\" >49.357798</td>\n",
       "      <td id=\"T_0d088_row12_col7\" class=\"data row12 col7\" >50.703364</td>\n",
       "      <td id=\"T_0d088_row12_col8\" class=\"data row12 col8\" >24.770642</td>\n",
       "    </tr>\n",
       "    <tr>\n",
       "      <th id=\"T_0d088_level0_row13\" class=\"row_heading level0 row13\" >Wilson High School</th>\n",
       "      <td id=\"T_0d088_row13_col0\" class=\"data row13 col0\" >Independent</td>\n",
       "      <td id=\"T_0d088_row13_col1\" class=\"data row13 col1\" >2283.0</td>\n",
       "      <td id=\"T_0d088_row13_col2\" class=\"data row13 col2\" >$1,319,574.00</td>\n",
       "      <td id=\"T_0d088_row13_col3\" class=\"data row13 col3\" >$578.00</td>\n",
       "      <td id=\"T_0d088_row13_col4\" class=\"data row13 col4\" >69.170828</td>\n",
       "      <td id=\"T_0d088_row13_col5\" class=\"data row13 col5\" >68.876916</td>\n",
       "      <td id=\"T_0d088_row13_col6\" class=\"data row13 col6\" >49.364871</td>\n",
       "      <td id=\"T_0d088_row13_col7\" class=\"data row13 col7\" >48.313622</td>\n",
       "      <td id=\"T_0d088_row13_col8\" class=\"data row13 col8\" >24.485326</td>\n",
       "    </tr>\n",
       "    <tr>\n",
       "      <th id=\"T_0d088_level0_row14\" class=\"row_heading level0 row14\" >Wright High School</th>\n",
       "      <td id=\"T_0d088_row14_col0\" class=\"data row14 col0\" >Independent</td>\n",
       "      <td id=\"T_0d088_row14_col1\" class=\"data row14 col1\" >1800.0</td>\n",
       "      <td id=\"T_0d088_row14_col2\" class=\"data row14 col2\" >$1,049,400.00</td>\n",
       "      <td id=\"T_0d088_row14_col3\" class=\"data row14 col3\" >$583.00</td>\n",
       "      <td id=\"T_0d088_row14_col4\" class=\"data row14 col4\" >72.047222</td>\n",
       "      <td id=\"T_0d088_row14_col5\" class=\"data row14 col5\" >70.969444</td>\n",
       "      <td id=\"T_0d088_row14_col6\" class=\"data row14 col6\" >54.444444</td>\n",
       "      <td id=\"T_0d088_row14_col7\" class=\"data row14 col7\" >52.166667</td>\n",
       "      <td id=\"T_0d088_row14_col8\" class=\"data row14 col8\" >28.444444</td>\n",
       "    </tr>\n",
       "    <tr>\n",
       "      <th id=\"T_0d088_level0_row15\" class=\"row_heading level0 row15\" >nan</th>\n",
       "      <td id=\"T_0d088_row15_col0\" class=\"data row15 col0\" >nan</td>\n",
       "      <td id=\"T_0d088_row15_col1\" class=\"data row15 col1\" >nan</td>\n",
       "      <td id=\"T_0d088_row15_col2\" class=\"data row15 col2\" >$24,649,428.00</td>\n",
       "      <td id=\"T_0d088_row15_col3\" class=\"data row15 col3\" >$nan</td>\n",
       "      <td id=\"T_0d088_row15_col4\" class=\"data row15 col4\" >   nan</td>\n",
       "      <td id=\"T_0d088_row15_col5\" class=\"data row15 col5\" >   nan</td>\n",
       "      <td id=\"T_0d088_row15_col6\" class=\"data row15 col6\" >   nan</td>\n",
       "      <td id=\"T_0d088_row15_col7\" class=\"data row15 col7\" >   nan</td>\n",
       "      <td id=\"T_0d088_row15_col8\" class=\"data row15 col8\" >nan</td>\n",
       "    </tr>\n",
       "  </tbody>\n",
       "</table>\n"
      ],
      "text/plain": [
       "<pandas.io.formats.style.Styler at 0x18fcc707f40>"
      ]
     },
     "execution_count": 21,
     "metadata": {},
     "output_type": "execute_result"
    }
   ],
   "source": [
    "school_summary = pd.DataFrame({\n",
    "    \"School Type\": school_type,\n",
    "    \"Total Students\": total_student,\n",
    "    \"Per Student Budget\": budget_per_student,\n",
    "    \"Total School Budget\": total_school_budget,\n",
    "    \"Average Math Score\": average_math_score,\n",
    "    \"Average Reading Score\": average_reading_score,\n",
    "    '% Passing Math': pass_math_percent,\n",
    "    '% Passing Reading': pass_read_percent,\n",
    "    \"% Overall Passing\": overall_pass})\n",
    "\n",
    "#munging\n",
    "school_summary = school_summary[['School Type',\n",
    "                          'Total Students',\n",
    "                          'Total School Budget',\n",
    "                          'Per Student Budget',\n",
    "                          'Average Math Score',\n",
    "                          'Average Reading Score',\n",
    "                          '% Passing Math',\n",
    "                          '% Passing Reading',\n",
    "                          '% Overall Passing']]\n",
    "#formatting\n",
    "school_summary.style.format({'Total Students': '{:}',\n",
    "                          \"Total School Budget\": \"${:,.2f}\",\n",
    "                          \"Per Student Budget\": \"${:.2f}\",\n",
    "                          'Average Math Score': \"{:6f}\",\n",
    "                          'Average Reading Score': \"{:6f}\",\n",
    "                          \"% Passing Math\": \"{:6f}\",\n",
    "                          \"% Passing Reading\": \"{:6f}\"})"
   ]
  },
  {
   "cell_type": "code",
   "execution_count": 22,
   "id": "91a76fb0",
   "metadata": {},
   "outputs": [
    {
     "data": {
      "text/html": [
       "<style type=\"text/css\">\n",
       "</style>\n",
       "<table id=\"T_f34fa\">\n",
       "  <thead>\n",
       "    <tr>\n",
       "      <th class=\"blank level0\" >&nbsp;</th>\n",
       "      <th id=\"T_f34fa_level0_col0\" class=\"col_heading level0 col0\" >School Type</th>\n",
       "      <th id=\"T_f34fa_level0_col1\" class=\"col_heading level0 col1\" >Total Students</th>\n",
       "      <th id=\"T_f34fa_level0_col2\" class=\"col_heading level0 col2\" >Total School Budget</th>\n",
       "      <th id=\"T_f34fa_level0_col3\" class=\"col_heading level0 col3\" >Per Student Budget</th>\n",
       "      <th id=\"T_f34fa_level0_col4\" class=\"col_heading level0 col4\" >Average Math Score</th>\n",
       "      <th id=\"T_f34fa_level0_col5\" class=\"col_heading level0 col5\" >Average Reading Score</th>\n",
       "      <th id=\"T_f34fa_level0_col6\" class=\"col_heading level0 col6\" >% Passing Math</th>\n",
       "      <th id=\"T_f34fa_level0_col7\" class=\"col_heading level0 col7\" >% Passing Reading</th>\n",
       "      <th id=\"T_f34fa_level0_col8\" class=\"col_heading level0 col8\" >% Overall Passing</th>\n",
       "    </tr>\n",
       "    <tr>\n",
       "      <th class=\"index_name level0\" >school_name</th>\n",
       "      <th class=\"blank col0\" >&nbsp;</th>\n",
       "      <th class=\"blank col1\" >&nbsp;</th>\n",
       "      <th class=\"blank col2\" >&nbsp;</th>\n",
       "      <th class=\"blank col3\" >&nbsp;</th>\n",
       "      <th class=\"blank col4\" >&nbsp;</th>\n",
       "      <th class=\"blank col5\" >&nbsp;</th>\n",
       "      <th class=\"blank col6\" >&nbsp;</th>\n",
       "      <th class=\"blank col7\" >&nbsp;</th>\n",
       "      <th class=\"blank col8\" >&nbsp;</th>\n",
       "    </tr>\n",
       "  </thead>\n",
       "  <tbody>\n",
       "    <tr>\n",
       "      <th id=\"T_f34fa_level0_row0\" class=\"row_heading level0 row0\" >Griffin High School</th>\n",
       "      <td id=\"T_f34fa_row0_col0\" class=\"data row0 col0\" >Independent</td>\n",
       "      <td id=\"T_f34fa_row0_col1\" class=\"data row0 col1\" >1468.0</td>\n",
       "      <td id=\"T_f34fa_row0_col2\" class=\"data row0 col2\" >$917,500.00</td>\n",
       "      <td id=\"T_f34fa_row0_col3\" class=\"data row0 col3\" >$625.00</td>\n",
       "      <td id=\"T_f34fa_row0_col4\" class=\"data row0 col4\" >71.788147</td>\n",
       "      <td id=\"T_f34fa_row0_col5\" class=\"data row0 col5\" >71.245232</td>\n",
       "      <td id=\"T_f34fa_row0_col6\" class=\"data row0 col6\" >54.700272</td>\n",
       "      <td id=\"T_f34fa_row0_col7\" class=\"data row0 col7\" >54.155313</td>\n",
       "      <td id=\"T_f34fa_row0_col8\" class=\"data row0 col8\" >31.675749</td>\n",
       "    </tr>\n",
       "    <tr>\n",
       "      <th id=\"T_f34fa_level0_row1\" class=\"row_heading level0 row1\" >Holden High School</th>\n",
       "      <td id=\"T_f34fa_row1_col0\" class=\"data row1 col0\" >Independent</td>\n",
       "      <td id=\"T_f34fa_row1_col1\" class=\"data row1 col1\" >427.0</td>\n",
       "      <td id=\"T_f34fa_row1_col2\" class=\"data row1 col2\" >$248,087.00</td>\n",
       "      <td id=\"T_f34fa_row1_col3\" class=\"data row1 col3\" >$581.00</td>\n",
       "      <td id=\"T_f34fa_row1_col4\" class=\"data row1 col4\" >72.583138</td>\n",
       "      <td id=\"T_f34fa_row1_col5\" class=\"data row1 col5\" >71.660422</td>\n",
       "      <td id=\"T_f34fa_row1_col6\" class=\"data row1 col6\" >57.142857</td>\n",
       "      <td id=\"T_f34fa_row1_col7\" class=\"data row1 col7\" >55.503513</td>\n",
       "      <td id=\"T_f34fa_row1_col8\" class=\"data row1 col8\" >30.913349</td>\n",
       "    </tr>\n",
       "    <tr>\n",
       "      <th id=\"T_f34fa_level0_row2\" class=\"row_heading level0 row2\" >Pena High School</th>\n",
       "      <td id=\"T_f34fa_row2_col0\" class=\"data row2 col0\" >Independent</td>\n",
       "      <td id=\"T_f34fa_row2_col1\" class=\"data row2 col1\" >962.0</td>\n",
       "      <td id=\"T_f34fa_row2_col2\" class=\"data row2 col2\" >$585,858.00</td>\n",
       "      <td id=\"T_f34fa_row2_col3\" class=\"data row2 col3\" >$609.00</td>\n",
       "      <td id=\"T_f34fa_row2_col4\" class=\"data row2 col4\" >72.088358</td>\n",
       "      <td id=\"T_f34fa_row2_col5\" class=\"data row2 col5\" >71.613306</td>\n",
       "      <td id=\"T_f34fa_row2_col6\" class=\"data row2 col6\" >55.405405</td>\n",
       "      <td id=\"T_f34fa_row2_col7\" class=\"data row2 col7\" >55.093555</td>\n",
       "      <td id=\"T_f34fa_row2_col8\" class=\"data row2 col8\" >30.457380</td>\n",
       "    </tr>\n",
       "    <tr>\n",
       "      <th id=\"T_f34fa_level0_row3\" class=\"row_heading level0 row3\" >Bailey High School</th>\n",
       "      <td id=\"T_f34fa_row3_col0\" class=\"data row3 col0\" >Government</td>\n",
       "      <td id=\"T_f34fa_row3_col1\" class=\"data row3 col1\" >4976.0</td>\n",
       "      <td id=\"T_f34fa_row3_col2\" class=\"data row3 col2\" >$3,124,928.00</td>\n",
       "      <td id=\"T_f34fa_row3_col3\" class=\"data row3 col3\" >$628.00</td>\n",
       "      <td id=\"T_f34fa_row3_col4\" class=\"data row3 col4\" >72.352894</td>\n",
       "      <td id=\"T_f34fa_row3_col5\" class=\"data row3 col5\" >71.008842</td>\n",
       "      <td id=\"T_f34fa_row3_col6\" class=\"data row3 col6\" >55.225080</td>\n",
       "      <td id=\"T_f34fa_row3_col7\" class=\"data row3 col7\" >52.451768</td>\n",
       "      <td id=\"T_f34fa_row3_col8\" class=\"data row3 col8\" >29.159968</td>\n",
       "    </tr>\n",
       "    <tr>\n",
       "      <th id=\"T_f34fa_level0_row4\" class=\"row_heading level0 row4\" >Rodriguez High School</th>\n",
       "      <td id=\"T_f34fa_row4_col0\" class=\"data row4 col0\" >Government</td>\n",
       "      <td id=\"T_f34fa_row4_col1\" class=\"data row4 col1\" >3999.0</td>\n",
       "      <td id=\"T_f34fa_row4_col2\" class=\"data row4 col2\" >$2,547,363.00</td>\n",
       "      <td id=\"T_f34fa_row4_col3\" class=\"data row4 col3\" >$637.00</td>\n",
       "      <td id=\"T_f34fa_row4_col4\" class=\"data row4 col4\" >72.047762</td>\n",
       "      <td id=\"T_f34fa_row4_col5\" class=\"data row4 col5\" >70.935984</td>\n",
       "      <td id=\"T_f34fa_row4_col6\" class=\"data row4 col6\" >54.513628</td>\n",
       "      <td id=\"T_f34fa_row4_col7\" class=\"data row4 col7\" >52.788197</td>\n",
       "      <td id=\"T_f34fa_row4_col8\" class=\"data row4 col8\" >28.832208</td>\n",
       "    </tr>\n",
       "  </tbody>\n",
       "</table>\n"
      ],
      "text/plain": [
       "<pandas.io.formats.style.Styler at 0x18fcc707550>"
      ]
     },
     "execution_count": 22,
     "metadata": {},
     "output_type": "execute_result"
    }
   ],
   "source": [
    "# Sort and display the top five schools by passing rate\n",
    "top_perform = school_summary.sort_values(\"% Overall Passing\", ascending = False)\n",
    "top_perform.head().style.format({'Total Students': '{:}',\n",
    "                           \"Total School Budget\": \"${:,.2f}\",\n",
    "                           \"Per Student Budget\": \"${:.2f}\",\n",
    "                           \"% Passing Math\": \"{:6f}\",\n",
    "                           \"% Passing Reading\": \"{:6f}\",\n",
    "                           \"% Overall Passing\": \"{:6f}\"})"
   ]
  },
  {
   "cell_type": "code",
   "execution_count": 23,
   "id": "9a761f94",
   "metadata": {},
   "outputs": [
    {
     "data": {
      "text/html": [
       "<style type=\"text/css\">\n",
       "</style>\n",
       "<table id=\"T_a2b47\">\n",
       "  <thead>\n",
       "    <tr>\n",
       "      <th class=\"blank level0\" >&nbsp;</th>\n",
       "      <th id=\"T_a2b47_level0_col0\" class=\"col_heading level0 col0\" >School Type</th>\n",
       "      <th id=\"T_a2b47_level0_col1\" class=\"col_heading level0 col1\" >Total Students</th>\n",
       "      <th id=\"T_a2b47_level0_col2\" class=\"col_heading level0 col2\" >Total School Budget</th>\n",
       "      <th id=\"T_a2b47_level0_col3\" class=\"col_heading level0 col3\" >Per Student Budget</th>\n",
       "      <th id=\"T_a2b47_level0_col4\" class=\"col_heading level0 col4\" >Average Math Score</th>\n",
       "      <th id=\"T_a2b47_level0_col5\" class=\"col_heading level0 col5\" >Average Reading Score</th>\n",
       "      <th id=\"T_a2b47_level0_col6\" class=\"col_heading level0 col6\" >% Passing Math</th>\n",
       "      <th id=\"T_a2b47_level0_col7\" class=\"col_heading level0 col7\" >% Passing Reading</th>\n",
       "      <th id=\"T_a2b47_level0_col8\" class=\"col_heading level0 col8\" >% Overall Passing</th>\n",
       "    </tr>\n",
       "    <tr>\n",
       "      <th class=\"index_name level0\" >school_name</th>\n",
       "      <th class=\"blank col0\" >&nbsp;</th>\n",
       "      <th class=\"blank col1\" >&nbsp;</th>\n",
       "      <th class=\"blank col2\" >&nbsp;</th>\n",
       "      <th class=\"blank col3\" >&nbsp;</th>\n",
       "      <th class=\"blank col4\" >&nbsp;</th>\n",
       "      <th class=\"blank col5\" >&nbsp;</th>\n",
       "      <th class=\"blank col6\" >&nbsp;</th>\n",
       "      <th class=\"blank col7\" >&nbsp;</th>\n",
       "      <th class=\"blank col8\" >&nbsp;</th>\n",
       "    </tr>\n",
       "  </thead>\n",
       "  <tbody>\n",
       "    <tr>\n",
       "      <th id=\"T_a2b47_level0_row0\" class=\"row_heading level0 row0\" >Huang High School</th>\n",
       "      <td id=\"T_a2b47_row0_col0\" class=\"data row0 col0\" >Government</td>\n",
       "      <td id=\"T_a2b47_row0_col1\" class=\"data row0 col1\" > 2917.0</td>\n",
       "      <td id=\"T_a2b47_row0_col2\" class=\"data row0 col2\" >$1,910,635.00</td>\n",
       "      <td id=\"T_a2b47_row0_col3\" class=\"data row0 col3\" >$655.00</td>\n",
       "      <td id=\"T_a2b47_row0_col4\" class=\"data row0 col4\" >68.935207</td>\n",
       "      <td id=\"T_a2b47_row0_col5\" class=\"data row0 col5\" >68.910525</td>\n",
       "      <td id=\"T_a2b47_row0_col6\" class=\"data row0 col6\" >48.920123</td>\n",
       "      <td id=\"T_a2b47_row0_col7\" class=\"data row0 col7\" >49.777168</td>\n",
       "      <td id=\"T_a2b47_row0_col8\" class=\"data row0 col8\" >23.723003</td>\n",
       "    </tr>\n",
       "    <tr>\n",
       "      <th id=\"T_a2b47_level0_row1\" class=\"row_heading level0 row1\" >Figueroa High School</th>\n",
       "      <td id=\"T_a2b47_row1_col0\" class=\"data row1 col0\" >Government</td>\n",
       "      <td id=\"T_a2b47_row1_col1\" class=\"data row1 col1\" > 2949.0</td>\n",
       "      <td id=\"T_a2b47_row1_col2\" class=\"data row1 col2\" >$1,884,411.00</td>\n",
       "      <td id=\"T_a2b47_row1_col3\" class=\"data row1 col3\" >$639.00</td>\n",
       "      <td id=\"T_a2b47_row1_col4\" class=\"data row1 col4\" >68.698542</td>\n",
       "      <td id=\"T_a2b47_row1_col5\" class=\"data row1 col5\" >69.077993</td>\n",
       "      <td id=\"T_a2b47_row1_col6\" class=\"data row1 col6\" >47.677179</td>\n",
       "      <td id=\"T_a2b47_row1_col7\" class=\"data row1 col7\" >49.169210</td>\n",
       "      <td id=\"T_a2b47_row1_col8\" class=\"data row1 col8\" >23.736860</td>\n",
       "    </tr>\n",
       "    <tr>\n",
       "      <th id=\"T_a2b47_level0_row2\" class=\"row_heading level0 row2\" >Johnson High School</th>\n",
       "      <td id=\"T_a2b47_row2_col0\" class=\"data row2 col0\" >Government</td>\n",
       "      <td id=\"T_a2b47_row2_col1\" class=\"data row2 col1\" > 4761.0</td>\n",
       "      <td id=\"T_a2b47_row2_col2\" class=\"data row2 col2\" >$3,094,650.00</td>\n",
       "      <td id=\"T_a2b47_row2_col3\" class=\"data row2 col3\" >$650.00</td>\n",
       "      <td id=\"T_a2b47_row2_col4\" class=\"data row2 col4\" >68.843100</td>\n",
       "      <td id=\"T_a2b47_row2_col5\" class=\"data row2 col5\" >69.039277</td>\n",
       "      <td id=\"T_a2b47_row2_col6\" class=\"data row2 col6\" >48.771267</td>\n",
       "      <td id=\"T_a2b47_row2_col7\" class=\"data row2 col7\" >48.603235</td>\n",
       "      <td id=\"T_a2b47_row2_col8\" class=\"data row2 col8\" >23.881537</td>\n",
       "    </tr>\n",
       "    <tr>\n",
       "      <th id=\"T_a2b47_level0_row3\" class=\"row_heading level0 row3\" >Wilson High School</th>\n",
       "      <td id=\"T_a2b47_row3_col0\" class=\"data row3 col0\" >Independent</td>\n",
       "      <td id=\"T_a2b47_row3_col1\" class=\"data row3 col1\" > 2283.0</td>\n",
       "      <td id=\"T_a2b47_row3_col2\" class=\"data row3 col2\" >$1,319,574.00</td>\n",
       "      <td id=\"T_a2b47_row3_col3\" class=\"data row3 col3\" >$578.00</td>\n",
       "      <td id=\"T_a2b47_row3_col4\" class=\"data row3 col4\" >69.170828</td>\n",
       "      <td id=\"T_a2b47_row3_col5\" class=\"data row3 col5\" >68.876916</td>\n",
       "      <td id=\"T_a2b47_row3_col6\" class=\"data row3 col6\" >49.364871</td>\n",
       "      <td id=\"T_a2b47_row3_col7\" class=\"data row3 col7\" >48.313622</td>\n",
       "      <td id=\"T_a2b47_row3_col8\" class=\"data row3 col8\" >24.485326</td>\n",
       "    </tr>\n",
       "    <tr>\n",
       "      <th id=\"T_a2b47_level0_row4\" class=\"row_heading level0 row4\" >nan</th>\n",
       "      <td id=\"T_a2b47_row4_col0\" class=\"data row4 col0\" >nan</td>\n",
       "      <td id=\"T_a2b47_row4_col1\" class=\"data row4 col1\" > nan</td>\n",
       "      <td id=\"T_a2b47_row4_col2\" class=\"data row4 col2\" >$24,649,428.00</td>\n",
       "      <td id=\"T_a2b47_row4_col3\" class=\"data row4 col3\" >$nan</td>\n",
       "      <td id=\"T_a2b47_row4_col4\" class=\"data row4 col4\" >nan</td>\n",
       "      <td id=\"T_a2b47_row4_col5\" class=\"data row4 col5\" >nan</td>\n",
       "      <td id=\"T_a2b47_row4_col6\" class=\"data row4 col6\" >   nan</td>\n",
       "      <td id=\"T_a2b47_row4_col7\" class=\"data row4 col7\" >   nan</td>\n",
       "      <td id=\"T_a2b47_row4_col8\" class=\"data row4 col8\" >   nan</td>\n",
       "    </tr>\n",
       "  </tbody>\n",
       "</table>\n"
      ],
      "text/plain": [
       "<pandas.io.formats.style.Styler at 0x18fcc7076a0>"
      ]
     },
     "execution_count": 23,
     "metadata": {},
     "output_type": "execute_result"
    }
   ],
   "source": [
    "    # Sort and display the bottom five schools by passing rate\n",
    "bottom_perform = top_perform.tail()\n",
    "bottom_perform = bottom_perform.sort_values('% Overall Passing')\n",
    "bottom_perform.style.format({'Total Students': '{: }',\n",
    "                       \"Total School Budget\": \"${:,.2f}\",\n",
    "                       \"Per Student Budget\": \"${:.2f}\",\n",
    "                       \"% Passing Math\": \"{:6f}\",\n",
    "                       \"% Passing Reading\": \"{:6f}\",\n",
    "                       \"% Overall Passing\": \"{:6f}\"})"
   ]
  },
  {
   "cell_type": "code",
   "execution_count": 29,
   "id": "726bfa25",
   "metadata": {},
   "outputs": [
    {
     "data": {
      "text/html": [
       "<style type=\"text/css\">\n",
       "</style>\n",
       "<table id=\"T_a1ab4\">\n",
       "  <thead>\n",
       "    <tr>\n",
       "      <th class=\"blank level0\" >&nbsp;</th>\n",
       "      <th id=\"T_a1ab4_level0_col0\" class=\"col_heading level0 col0\" >9th</th>\n",
       "      <th id=\"T_a1ab4_level0_col1\" class=\"col_heading level0 col1\" >10th</th>\n",
       "      <th id=\"T_a1ab4_level0_col2\" class=\"col_heading level0 col2\" >11th</th>\n",
       "      <th id=\"T_a1ab4_level0_col3\" class=\"col_heading level0 col3\" >12th</th>\n",
       "    </tr>\n",
       "    <tr>\n",
       "      <th class=\"index_name level0\" >School Name</th>\n",
       "      <th class=\"blank col0\" >&nbsp;</th>\n",
       "      <th class=\"blank col1\" >&nbsp;</th>\n",
       "      <th class=\"blank col2\" >&nbsp;</th>\n",
       "      <th class=\"blank col3\" >&nbsp;</th>\n",
       "    </tr>\n",
       "  </thead>\n",
       "  <tbody>\n",
       "    <tr>\n",
       "      <th id=\"T_a1ab4_level0_row0\" class=\"row_heading level0 row0\" >Bailey High School</th>\n",
       "      <td id=\"T_a1ab4_row0_col0\" class=\"data row0 col0\" >72.493827</td>\n",
       "      <td id=\"T_a1ab4_row0_col1\" class=\"data row0 col1\" >71.897498</td>\n",
       "      <td id=\"T_a1ab4_row0_col2\" class=\"data row0 col2\" >72.374900</td>\n",
       "      <td id=\"T_a1ab4_row0_col3\" class=\"data row0 col3\" >72.675097</td>\n",
       "    </tr>\n",
       "    <tr>\n",
       "      <th id=\"T_a1ab4_level0_row1\" class=\"row_heading level0 row1\" >Cabrera High School</th>\n",
       "      <td id=\"T_a1ab4_row1_col0\" class=\"data row1 col0\" >72.321970</td>\n",
       "      <td id=\"T_a1ab4_row1_col1\" class=\"data row1 col1\" >72.437768</td>\n",
       "      <td id=\"T_a1ab4_row1_col2\" class=\"data row1 col2\" >71.008299</td>\n",
       "      <td id=\"T_a1ab4_row1_col3\" class=\"data row1 col3\" >70.604712</td>\n",
       "    </tr>\n",
       "    <tr>\n",
       "      <th id=\"T_a1ab4_level0_row2\" class=\"row_heading level0 row2\" >Figueroa High School</th>\n",
       "      <td id=\"T_a1ab4_row2_col0\" class=\"data row2 col0\" >68.477804</td>\n",
       "      <td id=\"T_a1ab4_row2_col1\" class=\"data row2 col1\" >68.331586</td>\n",
       "      <td id=\"T_a1ab4_row2_col2\" class=\"data row2 col2\" >68.811001</td>\n",
       "      <td id=\"T_a1ab4_row2_col3\" class=\"data row2 col3\" >69.325282</td>\n",
       "    </tr>\n",
       "    <tr>\n",
       "      <th id=\"T_a1ab4_level0_row3\" class=\"row_heading level0 row3\" >Ford High School</th>\n",
       "      <td id=\"T_a1ab4_row3_col0\" class=\"data row3 col0\" >69.021609</td>\n",
       "      <td id=\"T_a1ab4_row3_col1\" class=\"data row3 col1\" >69.387006</td>\n",
       "      <td id=\"T_a1ab4_row3_col2\" class=\"data row3 col2\" >69.248862</td>\n",
       "      <td id=\"T_a1ab4_row3_col3\" class=\"data row3 col3\" >68.617811</td>\n",
       "    </tr>\n",
       "    <tr>\n",
       "      <th id=\"T_a1ab4_level0_row4\" class=\"row_heading level0 row4\" >Griffin High School</th>\n",
       "      <td id=\"T_a1ab4_row4_col0\" class=\"data row4 col0\" >72.789731</td>\n",
       "      <td id=\"T_a1ab4_row4_col1\" class=\"data row4 col1\" >71.093596</td>\n",
       "      <td id=\"T_a1ab4_row4_col2\" class=\"data row4 col2\" >71.692521</td>\n",
       "      <td id=\"T_a1ab4_row4_col3\" class=\"data row4 col3\" >71.469178</td>\n",
       "    </tr>\n",
       "    <tr>\n",
       "      <th id=\"T_a1ab4_level0_row5\" class=\"row_heading level0 row5\" >Hernandez High School</th>\n",
       "      <td id=\"T_a1ab4_row5_col0\" class=\"data row5 col0\" >68.586831</td>\n",
       "      <td id=\"T_a1ab4_row5_col1\" class=\"data row5 col1\" >68.867156</td>\n",
       "      <td id=\"T_a1ab4_row5_col2\" class=\"data row5 col2\" >69.154412</td>\n",
       "      <td id=\"T_a1ab4_row5_col3\" class=\"data row5 col3\" >68.985075</td>\n",
       "    </tr>\n",
       "    <tr>\n",
       "      <th id=\"T_a1ab4_level0_row6\" class=\"row_heading level0 row6\" >Holden High School</th>\n",
       "      <td id=\"T_a1ab4_row6_col0\" class=\"data row6 col0\" >70.543307</td>\n",
       "      <td id=\"T_a1ab4_row6_col1\" class=\"data row6 col1\" >75.105263</td>\n",
       "      <td id=\"T_a1ab4_row6_col2\" class=\"data row6 col2\" >71.640777</td>\n",
       "      <td id=\"T_a1ab4_row6_col3\" class=\"data row6 col3\" >73.409639</td>\n",
       "    </tr>\n",
       "    <tr>\n",
       "      <th id=\"T_a1ab4_level0_row7\" class=\"row_heading level0 row7\" >Huang High School</th>\n",
       "      <td id=\"T_a1ab4_row7_col0\" class=\"data row7 col0\" >69.081754</td>\n",
       "      <td id=\"T_a1ab4_row7_col1\" class=\"data row7 col1\" >68.533246</td>\n",
       "      <td id=\"T_a1ab4_row7_col2\" class=\"data row7 col2\" >69.431345</td>\n",
       "      <td id=\"T_a1ab4_row7_col3\" class=\"data row7 col3\" >68.639316</td>\n",
       "    </tr>\n",
       "    <tr>\n",
       "      <th id=\"T_a1ab4_level0_row8\" class=\"row_heading level0 row8\" >Johnson High School</th>\n",
       "      <td id=\"T_a1ab4_row8_col0\" class=\"data row8 col0\" >69.469286</td>\n",
       "      <td id=\"T_a1ab4_row8_col1\" class=\"data row8 col1\" >67.990220</td>\n",
       "      <td id=\"T_a1ab4_row8_col2\" class=\"data row8 col2\" >68.637730</td>\n",
       "      <td id=\"T_a1ab4_row8_col3\" class=\"data row8 col3\" >69.287393</td>\n",
       "    </tr>\n",
       "    <tr>\n",
       "      <th id=\"T_a1ab4_level0_row9\" class=\"row_heading level0 row9\" >Pena High School</th>\n",
       "      <td id=\"T_a1ab4_row9_col0\" class=\"data row9 col0\" >71.996364</td>\n",
       "      <td id=\"T_a1ab4_row9_col1\" class=\"data row9 col1\" >72.396000</td>\n",
       "      <td id=\"T_a1ab4_row9_col2\" class=\"data row9 col2\" >72.523438</td>\n",
       "      <td id=\"T_a1ab4_row9_col3\" class=\"data row9 col3\" >71.187845</td>\n",
       "    </tr>\n",
       "    <tr>\n",
       "      <th id=\"T_a1ab4_level0_row10\" class=\"row_heading level0 row10\" >Rodriguez High School</th>\n",
       "      <td id=\"T_a1ab4_row10_col0\" class=\"data row10 col0\" >71.940722</td>\n",
       "      <td id=\"T_a1ab4_row10_col1\" class=\"data row10 col1\" >71.779808</td>\n",
       "      <td id=\"T_a1ab4_row10_col2\" class=\"data row10 col2\" >72.364811</td>\n",
       "      <td id=\"T_a1ab4_row10_col3\" class=\"data row10 col3\" >72.154626</td>\n",
       "    </tr>\n",
       "    <tr>\n",
       "      <th id=\"T_a1ab4_level0_row11\" class=\"row_heading level0 row11\" >Shelton High School</th>\n",
       "      <td id=\"T_a1ab4_row11_col0\" class=\"data row11 col0\" >72.932075</td>\n",
       "      <td id=\"T_a1ab4_row11_col1\" class=\"data row11 col1\" >72.506696</td>\n",
       "      <td id=\"T_a1ab4_row11_col2\" class=\"data row11 col2\" >70.097087</td>\n",
       "      <td id=\"T_a1ab4_row11_col3\" class=\"data row11 col3\" >72.331536</td>\n",
       "    </tr>\n",
       "    <tr>\n",
       "      <th id=\"T_a1ab4_level0_row12\" class=\"row_heading level0 row12\" >Thomas High School</th>\n",
       "      <td id=\"T_a1ab4_row12_col0\" class=\"data row12 col0\" >69.234273</td>\n",
       "      <td id=\"T_a1ab4_row12_col1\" class=\"data row12 col1\" >70.057007</td>\n",
       "      <td id=\"T_a1ab4_row12_col2\" class=\"data row12 col2\" >69.657831</td>\n",
       "      <td id=\"T_a1ab4_row12_col3\" class=\"data row12 col3\" >69.369822</td>\n",
       "    </tr>\n",
       "    <tr>\n",
       "      <th id=\"T_a1ab4_level0_row13\" class=\"row_heading level0 row13\" >Wilson High School</th>\n",
       "      <td id=\"T_a1ab4_row13_col0\" class=\"data row13 col0\" >69.212361</td>\n",
       "      <td id=\"T_a1ab4_row13_col1\" class=\"data row13 col1\" >69.455446</td>\n",
       "      <td id=\"T_a1ab4_row13_col2\" class=\"data row13 col2\" >68.378965</td>\n",
       "      <td id=\"T_a1ab4_row13_col3\" class=\"data row13 col3\" >69.787472</td>\n",
       "    </tr>\n",
       "    <tr>\n",
       "      <th id=\"T_a1ab4_level0_row14\" class=\"row_heading level0 row14\" >Wright High School</th>\n",
       "      <td id=\"T_a1ab4_row14_col0\" class=\"data row14 col0\" >71.741176</td>\n",
       "      <td id=\"T_a1ab4_row14_col1\" class=\"data row14 col1\" >72.179012</td>\n",
       "      <td id=\"T_a1ab4_row14_col2\" class=\"data row14 col2\" >73.275862</td>\n",
       "      <td id=\"T_a1ab4_row14_col3\" class=\"data row14 col3\" >70.848238</td>\n",
       "    </tr>\n",
       "  </tbody>\n",
       "</table>\n"
      ],
      "text/plain": [
       "<pandas.io.formats.style.Styler at 0x18fd06aca90>"
      ]
     },
     "execution_count": 29,
     "metadata": {},
     "output_type": "execute_result"
    }
   ],
   "source": [
    "#creates grade level average math scores for each school\n",
    "ninth_math = student_data.loc[student_data['year'] == 9].groupby('school_name')[\"maths_score\"].mean()\n",
    "tenth_math = student_data.loc[student_data['year'] == 10].groupby('school_name')[\"maths_score\"].mean()\n",
    "eleventh_math = student_data.loc[student_data['year'] == 11].groupby('school_name')[\"maths_score\"].mean()\n",
    "twelfth_math = student_data.loc[student_data['year'] == 12].groupby('school_name')[\"maths_score\"].mean()\n",
    "\n",
    "math_scores = pd.DataFrame({\n",
    "        \"9th\": ninth_math,\n",
    "        \"10th\": tenth_math,\n",
    "        \"11th\": eleventh_math,\n",
    "        \"12th\": twelfth_math\n",
    "})\n",
    "math_scores = math_scores[['9th', '10th', '11th', '12th']]\n",
    "math_scores.index.name = \"School Name\"\n",
    "\n",
    "#show and format\n",
    "math_scores.style.format({'9': '{:.6f}',\n",
    "                          \"10\": '{:.6f}',\n",
    "                          \"11\": \"{:.6f}\",\n",
    "                          \"12\": \"{:.6f}\"})"
   ]
  },
  {
   "cell_type": "code",
   "execution_count": 27,
   "id": "9b76d31e",
   "metadata": {},
   "outputs": [
    {
     "data": {
      "text/html": [
       "<style type=\"text/css\">\n",
       "</style>\n",
       "<table id=\"T_533ad\">\n",
       "  <thead>\n",
       "    <tr>\n",
       "      <th class=\"blank level0\" >&nbsp;</th>\n",
       "      <th id=\"T_533ad_level0_col0\" class=\"col_heading level0 col0\" >9th</th>\n",
       "      <th id=\"T_533ad_level0_col1\" class=\"col_heading level0 col1\" >10th</th>\n",
       "      <th id=\"T_533ad_level0_col2\" class=\"col_heading level0 col2\" >11th</th>\n",
       "      <th id=\"T_533ad_level0_col3\" class=\"col_heading level0 col3\" >12th</th>\n",
       "    </tr>\n",
       "    <tr>\n",
       "      <th class=\"index_name level0\" >School Name</th>\n",
       "      <th class=\"blank col0\" >&nbsp;</th>\n",
       "      <th class=\"blank col1\" >&nbsp;</th>\n",
       "      <th class=\"blank col2\" >&nbsp;</th>\n",
       "      <th class=\"blank col3\" >&nbsp;</th>\n",
       "    </tr>\n",
       "  </thead>\n",
       "  <tbody>\n",
       "    <tr>\n",
       "      <th id=\"T_533ad_level0_row0\" class=\"row_heading level0 row0\" >Bailey High School</th>\n",
       "      <td id=\"T_533ad_row0_col0\" class=\"data row0 col0\" >70.901920</td>\n",
       "      <td id=\"T_533ad_row0_col1\" class=\"data row0 col1\" >70.848265</td>\n",
       "      <td id=\"T_533ad_row0_col2\" class=\"data row0 col2\" >70.317346</td>\n",
       "      <td id=\"T_533ad_row0_col3\" class=\"data row0 col3\" >72.195525</td>\n",
       "    </tr>\n",
       "    <tr>\n",
       "      <th id=\"T_533ad_level0_row1\" class=\"row_heading level0 row1\" >Cabrera High School</th>\n",
       "      <td id=\"T_533ad_row1_col0\" class=\"data row1 col0\" >71.172348</td>\n",
       "      <td id=\"T_533ad_row1_col1\" class=\"data row1 col1\" >71.328326</td>\n",
       "      <td id=\"T_533ad_row1_col2\" class=\"data row1 col2\" >71.201245</td>\n",
       "      <td id=\"T_533ad_row1_col3\" class=\"data row1 col3\" >71.856021</td>\n",
       "    </tr>\n",
       "    <tr>\n",
       "      <th id=\"T_533ad_level0_row2\" class=\"row_heading level0 row2\" >Figueroa High School</th>\n",
       "      <td id=\"T_533ad_row2_col0\" class=\"data row2 col0\" >70.261682</td>\n",
       "      <td id=\"T_533ad_row2_col1\" class=\"data row2 col1\" >67.677588</td>\n",
       "      <td id=\"T_533ad_row2_col2\" class=\"data row2 col2\" >69.152327</td>\n",
       "      <td id=\"T_533ad_row2_col3\" class=\"data row2 col3\" >69.082126</td>\n",
       "    </tr>\n",
       "    <tr>\n",
       "      <th id=\"T_533ad_level0_row3\" class=\"row_heading level0 row3\" >Ford High School</th>\n",
       "      <td id=\"T_533ad_row3_col0\" class=\"data row3 col0\" >69.615846</td>\n",
       "      <td id=\"T_533ad_row3_col1\" class=\"data row3 col1\" >68.988701</td>\n",
       "      <td id=\"T_533ad_row3_col2\" class=\"data row3 col2\" >70.735964</td>\n",
       "      <td id=\"T_533ad_row3_col3\" class=\"data row3 col3\" >68.849722</td>\n",
       "    </tr>\n",
       "    <tr>\n",
       "      <th id=\"T_533ad_level0_row4\" class=\"row_heading level0 row4\" >Griffin High School</th>\n",
       "      <td id=\"T_533ad_row4_col0\" class=\"data row4 col0\" >72.026895</td>\n",
       "      <td id=\"T_533ad_row4_col1\" class=\"data row4 col1\" >70.746305</td>\n",
       "      <td id=\"T_533ad_row4_col2\" class=\"data row4 col2\" >72.385042</td>\n",
       "      <td id=\"T_533ad_row4_col3\" class=\"data row4 col3\" >69.434932</td>\n",
       "    </tr>\n",
       "    <tr>\n",
       "      <th id=\"T_533ad_level0_row5\" class=\"row_heading level0 row5\" >Hernandez High School</th>\n",
       "      <td id=\"T_533ad_row5_col0\" class=\"data row5 col0\" >68.477569</td>\n",
       "      <td id=\"T_533ad_row5_col1\" class=\"data row5 col1\" >70.621842</td>\n",
       "      <td id=\"T_533ad_row5_col2\" class=\"data row5 col2\" >68.418199</td>\n",
       "      <td id=\"T_533ad_row5_col3\" class=\"data row5 col3\" >69.244136</td>\n",
       "    </tr>\n",
       "    <tr>\n",
       "      <th id=\"T_533ad_level0_row6\" class=\"row_heading level0 row6\" >Holden High School</th>\n",
       "      <td id=\"T_533ad_row6_col0\" class=\"data row6 col0\" >71.598425</td>\n",
       "      <td id=\"T_533ad_row6_col1\" class=\"data row6 col1\" >71.096491</td>\n",
       "      <td id=\"T_533ad_row6_col2\" class=\"data row6 col2\" >73.310680</td>\n",
       "      <td id=\"T_533ad_row6_col3\" class=\"data row6 col3\" >70.481928</td>\n",
       "    </tr>\n",
       "    <tr>\n",
       "      <th id=\"T_533ad_level0_row7\" class=\"row_heading level0 row7\" >Huang High School</th>\n",
       "      <td id=\"T_533ad_row7_col0\" class=\"data row7 col0\" >68.670616</td>\n",
       "      <td id=\"T_533ad_row7_col1\" class=\"data row7 col1\" >69.516297</td>\n",
       "      <td id=\"T_533ad_row7_col2\" class=\"data row7 col2\" >68.740638</td>\n",
       "      <td id=\"T_533ad_row7_col3\" class=\"data row7 col3\" >68.671795</td>\n",
       "    </tr>\n",
       "    <tr>\n",
       "      <th id=\"T_533ad_level0_row8\" class=\"row_heading level0 row8\" >Johnson High School</th>\n",
       "      <td id=\"T_533ad_row8_col0\" class=\"data row8 col0\" >68.719286</td>\n",
       "      <td id=\"T_533ad_row8_col1\" class=\"data row8 col1\" >69.295029</td>\n",
       "      <td id=\"T_533ad_row8_col2\" class=\"data row8 col2\" >69.969115</td>\n",
       "      <td id=\"T_533ad_row8_col3\" class=\"data row8 col3\" >67.992521</td>\n",
       "    </tr>\n",
       "    <tr>\n",
       "      <th id=\"T_533ad_level0_row9\" class=\"row_heading level0 row9\" >Pena High School</th>\n",
       "      <td id=\"T_533ad_row9_col0\" class=\"data row9 col0\" >70.949091</td>\n",
       "      <td id=\"T_533ad_row9_col1\" class=\"data row9 col1\" >72.324000</td>\n",
       "      <td id=\"T_533ad_row9_col2\" class=\"data row9 col2\" >71.703125</td>\n",
       "      <td id=\"T_533ad_row9_col3\" class=\"data row9 col3\" >71.513812</td>\n",
       "    </tr>\n",
       "    <tr>\n",
       "      <th id=\"T_533ad_level0_row10\" class=\"row_heading level0 row10\" >Rodriguez High School</th>\n",
       "      <td id=\"T_533ad_row10_col0\" class=\"data row10 col0\" >70.902921</td>\n",
       "      <td id=\"T_533ad_row10_col1\" class=\"data row10 col1\" >70.137500</td>\n",
       "      <td id=\"T_533ad_row10_col2\" class=\"data row10 col2\" >71.424453</td>\n",
       "      <td id=\"T_533ad_row10_col3\" class=\"data row10 col3\" >71.414449</td>\n",
       "    </tr>\n",
       "    <tr>\n",
       "      <th id=\"T_533ad_level0_row11\" class=\"row_heading level0 row11\" >Shelton High School</th>\n",
       "      <td id=\"T_533ad_row11_col0\" class=\"data row11 col0\" >70.715094</td>\n",
       "      <td id=\"T_533ad_row11_col1\" class=\"data row11 col1\" >69.879464</td>\n",
       "      <td id=\"T_533ad_row11_col2\" class=\"data row11 col2\" >71.150485</td>\n",
       "      <td id=\"T_533ad_row11_col3\" class=\"data row11 col3\" >69.070081</td>\n",
       "    </tr>\n",
       "    <tr>\n",
       "      <th id=\"T_533ad_level0_row12\" class=\"row_heading level0 row12\" >Thomas High School</th>\n",
       "      <td id=\"T_533ad_row12_col0\" class=\"data row12 col0\" >69.672451</td>\n",
       "      <td id=\"T_533ad_row12_col1\" class=\"data row12 col1\" >69.741093</td>\n",
       "      <td id=\"T_533ad_row12_col2\" class=\"data row12 col2\" >70.749398</td>\n",
       "      <td id=\"T_533ad_row12_col3\" class=\"data row12 col3\" >68.730769</td>\n",
       "    </tr>\n",
       "    <tr>\n",
       "      <th id=\"T_533ad_level0_row13\" class=\"row_heading level0 row13\" >Wilson High School</th>\n",
       "      <td id=\"T_533ad_row13_col0\" class=\"data row13 col0\" >68.683043</td>\n",
       "      <td id=\"T_533ad_row13_col1\" class=\"data row13 col1\" >68.412541</td>\n",
       "      <td id=\"T_533ad_row13_col2\" class=\"data row13 col2\" >68.796327</td>\n",
       "      <td id=\"T_533ad_row13_col3\" class=\"data row13 col3\" >69.888143</td>\n",
       "    </tr>\n",
       "    <tr>\n",
       "      <th id=\"T_533ad_level0_row14\" class=\"row_heading level0 row14\" >Wright High School</th>\n",
       "      <td id=\"T_533ad_row14_col0\" class=\"data row14 col0\" >71.823529</td>\n",
       "      <td id=\"T_533ad_row14_col1\" class=\"data row14 col1\" >71.386831</td>\n",
       "      <td id=\"T_533ad_row14_col2\" class=\"data row14 col2\" >70.475862</td>\n",
       "      <td id=\"T_533ad_row14_col3\" class=\"data row14 col3\" >69.821138</td>\n",
       "    </tr>\n",
       "  </tbody>\n",
       "</table>\n"
      ],
      "text/plain": [
       "<pandas.io.formats.style.Styler at 0x18fcc34f8b0>"
      ]
     },
     "execution_count": 27,
     "metadata": {},
     "output_type": "execute_result"
    }
   ],
   "source": [
    "#creates grade level average math scores for each school\n",
    "ninth_reading = student_data.loc[student_data['year'] == 9].groupby('school_name')[\"reading_score\"].mean()\n",
    "tenth_reading = student_data.loc[student_data['year'] == 10].groupby('school_name')[\"reading_score\"].mean()\n",
    "eleventh_reading = student_data.loc[student_data['year'] == 11].groupby('school_name')[\"reading_score\"].mean()\n",
    "twelfth_reading = student_data.loc[student_data['year'] == 12].groupby('school_name')[\"reading_score\"].mean()\n",
    "\n",
    "reading_scores = pd.DataFrame({\n",
    "        \"9th\": ninth_reading,\n",
    "        \"10th\": tenth_reading,\n",
    "        \"11th\": eleventh_reading,\n",
    "        \"12th\": twelfth_reading})\n",
    "\n",
    "reading_scores = reading_scores[['9th', '10th', '11th', '12th']]\n",
    "reading_scores.index.name = \"School Name\"\n",
    "\n",
    "#show and format\n",
    "reading_scores.style.format({'9': '{:.6f}',\n",
    "                          \"10\": '{:.6f}',\n",
    "                          \"11\": \"{:.6f}\",\n",
    "                          \"12\": \"{:.6f}\"})"
   ]
  },
  {
   "cell_type": "code",
   "execution_count": 19,
   "id": "1b9402d0",
   "metadata": {},
   "outputs": [
    {
     "name": "stdout",
     "output_type": "stream",
     "text": [
      "       Student ID     student_name gender  year        school_name  \\\n",
      "0               0     Paul Bradley      M     9  Huang High School   \n",
      "1               1     Victor Smith      M    12  Huang High School   \n",
      "2               2  Kevin Rodriguez      M    12  Huang High School   \n",
      "3               3    Richard Scott      M    12  Huang High School   \n",
      "4               4       Bonnie Ray      F     9  Huang High School   \n",
      "...           ...              ...    ...   ...                ...   \n",
      "37530       37530   William Rivera      M     9   Ford High School   \n",
      "37531       37531     Bernard Reid      M     9   Ford High School   \n",
      "37532       37532      Dawn Sawyer      F    12   Ford High School   \n",
      "37533       37533     Thomas Knapp      M    12   Ford High School   \n",
      "37534       37534   Melissa Porter      F     9   Ford High School   \n",
      "\n",
      "       reading_score  maths_score  School ID        type    size   budget  \n",
      "0                 96           94        0.0  Government  2917.0  1910635  \n",
      "1                 90           43        0.0  Government  2917.0  1910635  \n",
      "2                 41           76        0.0  Government  2917.0  1910635  \n",
      "3                 89           86        0.0  Government  2917.0  1910635  \n",
      "4                 87           69        0.0  Government  2917.0  1910635  \n",
      "...              ...          ...        ...         ...     ...      ...  \n",
      "37530             42           94       13.0  Government  2739.0  1763916  \n",
      "37531             76           46       13.0  Government  2739.0  1763916  \n",
      "37532             66           43       13.0  Government  2739.0  1763916  \n",
      "37533             62           83       13.0  Government  2739.0  1763916  \n",
      "37534             73           58       13.0  Government  2739.0  1763916  \n",
      "\n",
      "[26976 rows x 11 columns]\n"
     ]
    }
   ],
   "source": [
    "# Combine the data into a single dataset for Local School  \n",
    "local_schooldata = school_data[school_data['type'] =='Government']\n",
    "\n",
    "all_school_data = pd.merge(student_data, school_data, how=\"left\", on=[\"school_name\", \"school_name\"])\n",
    "\n",
    "local_school_data = all_school_data[all_school_data['type'] =='Government']\n",
    "local_school_data.head()\n",
    "print(local_school_data)\n"
   ]
  },
  {
   "cell_type": "code",
   "execution_count": 4,
   "id": "e568da0c",
   "metadata": {},
   "outputs": [
    {
     "data": {
      "text/plain": [
       "7"
      ]
     },
     "execution_count": 4,
     "metadata": {},
     "output_type": "execute_result"
    }
   ],
   "source": [
    "# Calculate the total number of local schools\n",
    "local_unique_school_name=local_school_data['school_name'].unique()\n",
    "local_total_school_number=len(local_unique_school_name)\n",
    "local_total_school_number"
   ]
  },
  {
   "cell_type": "code",
   "execution_count": 5,
   "id": "4b2aa674",
   "metadata": {},
   "outputs": [
    {
     "data": {
      "text/plain": [
       "26976"
      ]
     },
     "execution_count": 5,
     "metadata": {},
     "output_type": "execute_result"
    }
   ],
   "source": [
    "# Calculate the total number of  local students\n",
    "local_students_count=local_school_data[\"student_name\"].count()\n",
    "local_students_count"
   ]
  },
  {
   "cell_type": "code",
   "execution_count": 20,
   "id": "f9bff613",
   "metadata": {},
   "outputs": [
    {
     "data": {
      "text/plain": [
       "17347923"
      ]
     },
     "execution_count": 20,
     "metadata": {},
     "output_type": "execute_result"
    }
   ],
   "source": [
    "# Calculate the total school budget for local School\n",
    "local_total_budget = local_schooldata[\"budget\"].sum()\n",
    "local_total_budget\n"
   ]
  },
  {
   "cell_type": "code",
   "execution_count": 8,
   "id": "38f84c82",
   "metadata": {},
   "outputs": [],
   "source": [
    "# per local student budget\n",
    "local_budget_per_student = (local_school_data.set_index('school_name')['budget']/local_school_data.set_index('school_name')['size'])"
   ]
  },
  {
   "cell_type": "code",
   "execution_count": 9,
   "id": "95527733",
   "metadata": {},
   "outputs": [
    {
     "data": {
      "text/plain": [
       "69.99039887307237"
      ]
     },
     "execution_count": 9,
     "metadata": {},
     "output_type": "execute_result"
    }
   ],
   "source": [
    "# Calculate the local average math score.\n",
    "local_average_math_score = local_school_data[\"maths_score\"].mean()\n",
    "local_average_math_score"
   ]
  },
  {
   "cell_type": "code",
   "execution_count": 10,
   "id": "2424451e",
   "metadata": {},
   "outputs": [
    {
     "data": {
      "text/plain": [
       "69.75348457888494"
      ]
     },
     "execution_count": 10,
     "metadata": {},
     "output_type": "execute_result"
    }
   ],
   "source": [
    "# Calculate the average local reading score\n",
    "local_average_reading_score = local_school_data[\"reading_score\"].mean()\n",
    "local_average_reading_score\n"
   ]
  },
  {
   "cell_type": "code",
   "execution_count": null,
   "id": "89dde513",
   "metadata": {},
   "outputs": [],
   "source": [
    "#Calculate the percentage of local students with a passing math score (70 or greater)\n",
    "\n",
    "local_students_passing_reading = local_school_data.loc[local_school_data[\"score\"] >= 70]\n",
    "local_number_students_passing_math = local_students_passing_math[\"Student ID\"].count()\n",
    "local_percent_passing_math = (local_number_students_passing_math / local_students_count) * 100\n",
    "local_percent_passing_math"
   ]
  },
  {
   "cell_type": "code",
   "execution_count": 27,
   "id": "30bb8e88",
   "metadata": {},
   "outputs": [
    {
     "data": {
      "text/plain": [
       "50.46337485172005"
      ]
     },
     "execution_count": 27,
     "metadata": {},
     "output_type": "execute_result"
    }
   ],
   "source": [
    "#Calculate the percentage of local students with a passing reading score (70 or greater)\n",
    "\n",
    "local_students_passing_reading = local_school_data.loc[local_school_data[\"reading_score\"] >= 70]\n",
    "local_number_students_passing_reading = local_students_passing_reading[\"Student ID\"].count()\n",
    "local_percent_passing_reading = (local_number_students_passing_reading / local_students_count) * 100\n",
    "local_percent_passing_reading"
   ]
  },
  {
   "cell_type": "code",
   "execution_count": 12,
   "id": "7e772b95",
   "metadata": {
    "scrolled": true
   },
   "outputs": [
    {
     "data": {
      "text/plain": [
       "25.75252075919336"
      ]
     },
     "execution_count": 12,
     "metadata": {},
     "output_type": "execute_result"
    }
   ],
   "source": [
    "# Calculate the percentage of local students who passed math and reading (% Overall Passing)\n",
    "\n",
    "local_Overall_passing = local_school_data[(local_school_data['maths_score'] >= 70) & (local_school_data['reading_score'] >= 70)]['Student ID'].count()/local_students_count*100\n",
    "local_Overall_passing\n"
   ]
  },
  {
   "cell_type": "code",
   "execution_count": 28,
   "id": "c65a4c86",
   "metadata": {},
   "outputs": [
    {
     "data": {
      "text/html": [
       "<div>\n",
       "<style scoped>\n",
       "    .dataframe tbody tr th:only-of-type {\n",
       "        vertical-align: middle;\n",
       "    }\n",
       "\n",
       "    .dataframe tbody tr th {\n",
       "        vertical-align: top;\n",
       "    }\n",
       "\n",
       "    .dataframe thead th {\n",
       "        text-align: right;\n",
       "    }\n",
       "</style>\n",
       "<table border=\"1\" class=\"dataframe\">\n",
       "  <thead>\n",
       "    <tr style=\"text-align: right;\">\n",
       "      <th></th>\n",
       "      <th>Total Schools</th>\n",
       "      <th>Total Students</th>\n",
       "      <th>Total Budget</th>\n",
       "      <th>Average Math Score</th>\n",
       "      <th>Average Reading Score</th>\n",
       "      <th>% Passing Math</th>\n",
       "      <th>% Passing Reading</th>\n",
       "      <th>% Overall Passing</th>\n",
       "    </tr>\n",
       "  </thead>\n",
       "  <tbody>\n",
       "    <tr>\n",
       "      <th>0</th>\n",
       "      <td>7</td>\n",
       "      <td>26,976</td>\n",
       "      <td>$17,347,923.00</td>\n",
       "      <td>69.990399</td>\n",
       "      <td>69.75348</td>\n",
       "      <td>50.811833</td>\n",
       "      <td>50.463375</td>\n",
       "      <td>25.752521</td>\n",
       "    </tr>\n",
       "  </tbody>\n",
       "</table>\n",
       "</div>"
      ],
      "text/plain": [
       "   Total Schools Total Students    Total Budget Average Math Score  \\\n",
       "0              7         26,976  $17,347,923.00          69.990399   \n",
       "\n",
       "  Average Reading Score % Passing Math % Passing Reading % Overall Passing  \n",
       "0              69.75348      50.811833         50.463375         25.752521  "
      ]
     },
     "execution_count": 28,
     "metadata": {},
     "output_type": "execute_result"
    }
   ],
   "source": [
    "# Create a local school dataframe to hold the above results\n",
    "local_district_summary = pd.DataFrame({\n",
    "    \"Total Schools\": local_total_school_number,\n",
    "    \"Total Students\": f\"{local_students_count:,}\",\n",
    "    \"Total Budget\": f\"${local_total_budget:,.2f}\",\n",
    "    \"Average Math Score\": f\"{local_average_math_score:.6f}\",\n",
    "    \"Average Reading Score\": f\"{local_average_reading_score:.5f}\",\n",
    "    \"% Passing Math\": f\"{local_percent_passing_math:.6f}\",\n",
    "    \"% Passing Reading\": f\"{local_percent_passing_reading:.6f}\",\n",
    "    \"% Overall Passing\": f\"{local_Overall_passing: .6f}\"\n",
    "}, index=[0])\n",
    "\n",
    "local_district_summary"
   ]
  }
 ],
 "metadata": {
  "kernelspec": {
   "display_name": "Python 3 (ipykernel)",
   "language": "python",
   "name": "python3"
  },
  "language_info": {
   "codemirror_mode": {
    "name": "ipython",
    "version": 3
   },
   "file_extension": ".py",
   "mimetype": "text/x-python",
   "name": "python",
   "nbconvert_exporter": "python",
   "pygments_lexer": "ipython3",
   "version": "3.9.13"
  }
 },
 "nbformat": 4,
 "nbformat_minor": 5
}
